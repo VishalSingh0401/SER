{
 "cells": [
  {
   "cell_type": "code",
   "execution_count": 9,
   "metadata": {
    "colab": {
     "base_uri": "https://localhost:8080/"
    },
    "id": "zkSGman8zjjY",
    "outputId": "46281e92-6a4a-4023-d454-f958fd407c43"
   },
   "outputs": [
    {
     "name": "stderr",
     "output_type": "stream",
     "text": [
      "WARNING: pip is being invoked by an old script wrapper. This will fail in a future version of pip.\n",
      "Please see https://github.com/pypa/pip/issues/5599 for advice on fixing the underlying issue.\n",
      "To avoid this problem you can invoke Python with '-m pip' instead of running pip directly.\n"
     ]
    },
    {
     "data": {
      "text/html": [
       "<pre style=\"white-space:pre;overflow-x:auto;line-height:normal;font-family:Menlo,'DejaVu Sans Mono',consolas,'Courier New',monospace\">Collecting librosa\n",
       "</pre>\n"
      ],
      "text/plain": [
       "Collecting librosa\n"
      ]
     },
     "metadata": {},
     "output_type": "display_data"
    },
    {
     "data": {
      "text/html": [
       "<pre style=\"white-space:pre;overflow-x:auto;line-height:normal;font-family:Menlo,'DejaVu Sans Mono',consolas,'Courier New',monospace\">  Downloading librosa-0.10.2.post1-py3-none-any.whl (260 kB)\n",
       "</pre>\n"
      ],
      "text/plain": [
       "  Downloading librosa-0.10.2.post1-py3-none-any.whl (260 kB)\n"
      ]
     },
     "metadata": {},
     "output_type": "display_data"
    },
    {
     "data": {
      "application/vnd.jupyter.widget-view+json": {
       "model_id": "609f4e1d34d94c78b39c454bf343819f",
       "version_major": 2,
       "version_minor": 0
      },
      "text/plain": [
       "Output()"
      ]
     },
     "metadata": {},
     "output_type": "display_data"
    },
    {
     "data": {
      "text/html": [
       "<pre style=\"white-space:pre;overflow-x:auto;line-height:normal;font-family:Menlo,'DejaVu Sans Mono',consolas,'Courier New',monospace\"></pre>\n"
      ],
      "text/plain": []
     },
     "metadata": {},
     "output_type": "display_data"
    },
    {
     "data": {
      "text/html": [
       "<pre style=\"white-space:pre;overflow-x:auto;line-height:normal;font-family:Menlo,'DejaVu Sans Mono',consolas,'Courier New',monospace\">\n",
       "</pre>\n"
      ],
      "text/plain": [
       "\n"
      ]
     },
     "metadata": {},
     "output_type": "display_data"
    },
    {
     "data": {
      "text/html": [
       "<pre style=\"white-space:pre;overflow-x:auto;line-height:normal;font-family:Menlo,'DejaVu Sans Mono',consolas,'Courier New',monospace\">Collecting soundfile&gt;=0.12.1\n",
       "</pre>\n"
      ],
      "text/plain": [
       "Collecting soundfile>=0.12.1\n"
      ]
     },
     "metadata": {},
     "output_type": "display_data"
    },
    {
     "data": {
      "text/html": [
       "<pre style=\"white-space:pre;overflow-x:auto;line-height:normal;font-family:Menlo,'DejaVu Sans Mono',consolas,'Courier New',monospace\">  Using cached soundfile-0.12.1-py2.py3-none-win_amd64.whl (1.0 MB)\n",
       "</pre>\n"
      ],
      "text/plain": [
       "  Using cached soundfile-0.12.1-py2.py3-none-win_amd64.whl (1.0 MB)\n"
      ]
     },
     "metadata": {},
     "output_type": "display_data"
    },
    {
     "data": {
      "text/html": [
       "<pre style=\"white-space:pre;overflow-x:auto;line-height:normal;font-family:Menlo,'DejaVu Sans Mono',consolas,'Courier New',monospace\">Requirement already satisfied: scipy&gt;=1.2.0 in c:\\users\\vishal\\anaconda3\\lib\\site-packages (from librosa) (1.9.1)\n",
       "</pre>\n"
      ],
      "text/plain": [
       "Requirement already satisfied: scipy>=1.2.0 in c:\\users\\vishal\\anaconda3\\lib\\site-packages (from librosa) (1.9.1)\n"
      ]
     },
     "metadata": {},
     "output_type": "display_data"
    },
    {
     "data": {
      "text/html": [
       "<pre style=\"white-space:pre;overflow-x:auto;line-height:normal;font-family:Menlo,'DejaVu Sans Mono',consolas,'Courier New',monospace\">Requirement already satisfied: joblib&gt;=0.14 in c:\\users\\vishal\\anaconda3\\lib\\site-packages (from librosa) (1.1.0)\n",
       "</pre>\n"
      ],
      "text/plain": [
       "Requirement already satisfied: joblib>=0.14 in c:\\users\\vishal\\anaconda3\\lib\\site-packages (from librosa) (1.1.0)\n"
      ]
     },
     "metadata": {},
     "output_type": "display_data"
    },
    {
     "data": {
      "text/html": [
       "<pre style=\"white-space:pre;overflow-x:auto;line-height:normal;font-family:Menlo,'DejaVu Sans Mono',consolas,'Courier New',monospace\">Requirement already satisfied: decorator&gt;=4.3.0 in c:\\users\\vishal\\anaconda3\\lib\\site-packages (from librosa) (5.1.1)\n",
       "</pre>\n"
      ],
      "text/plain": [
       "Requirement already satisfied: decorator>=4.3.0 in c:\\users\\vishal\\anaconda3\\lib\\site-packages (from librosa) (5.1.1)\n"
      ]
     },
     "metadata": {},
     "output_type": "display_data"
    },
    {
     "data": {
      "text/html": [
       "<pre style=\"white-space:pre;overflow-x:auto;line-height:normal;font-family:Menlo,'DejaVu Sans Mono',consolas,'Courier New',monospace\">Requirement already satisfied: numba&gt;=0.51.0 in c:\\users\\vishal\\anaconda3\\lib\\site-packages (from librosa) (0.55.1)\n",
       "</pre>\n"
      ],
      "text/plain": [
       "Requirement already satisfied: numba>=0.51.0 in c:\\users\\vishal\\anaconda3\\lib\\site-packages (from librosa) (0.55.1)\n"
      ]
     },
     "metadata": {},
     "output_type": "display_data"
    },
    {
     "data": {
      "text/html": [
       "<pre style=\"white-space:pre;overflow-x:auto;line-height:normal;font-family:Menlo,'DejaVu Sans Mono',consolas,'Courier New',monospace\">Collecting soxr&gt;=0.3.2\n",
       "</pre>\n"
      ],
      "text/plain": [
       "Collecting soxr>=0.3.2\n"
      ]
     },
     "metadata": {},
     "output_type": "display_data"
    },
    {
     "data": {
      "text/html": [
       "<pre style=\"white-space:pre;overflow-x:auto;line-height:normal;font-family:Menlo,'DejaVu Sans Mono',consolas,'Courier New',monospace\">  Downloading soxr-0.4.0-cp39-cp39-win_amd64.whl (184 kB)\n",
       "</pre>\n"
      ],
      "text/plain": [
       "  Downloading soxr-0.4.0-cp39-cp39-win_amd64.whl (184 kB)\n"
      ]
     },
     "metadata": {},
     "output_type": "display_data"
    },
    {
     "data": {
      "application/vnd.jupyter.widget-view+json": {
       "model_id": "561a8837c21d49e8bf45a1fe6d1c3f95",
       "version_major": 2,
       "version_minor": 0
      },
      "text/plain": [
       "Output()"
      ]
     },
     "metadata": {},
     "output_type": "display_data"
    },
    {
     "data": {
      "text/html": [
       "<pre style=\"white-space:pre;overflow-x:auto;line-height:normal;font-family:Menlo,'DejaVu Sans Mono',consolas,'Courier New',monospace\"></pre>\n"
      ],
      "text/plain": []
     },
     "metadata": {},
     "output_type": "display_data"
    },
    {
     "data": {
      "text/html": [
       "<pre style=\"white-space:pre;overflow-x:auto;line-height:normal;font-family:Menlo,'DejaVu Sans Mono',consolas,'Courier New',monospace\">\n",
       "</pre>\n"
      ],
      "text/plain": [
       "\n"
      ]
     },
     "metadata": {},
     "output_type": "display_data"
    },
    {
     "data": {
      "text/html": [
       "<pre style=\"white-space:pre;overflow-x:auto;line-height:normal;font-family:Menlo,'DejaVu Sans Mono',consolas,'Courier New',monospace\">Collecting audioread&gt;=2.1.9\n",
       "</pre>\n"
      ],
      "text/plain": [
       "Collecting audioread>=2.1.9\n"
      ]
     },
     "metadata": {},
     "output_type": "display_data"
    },
    {
     "data": {
      "text/html": [
       "<pre style=\"white-space:pre;overflow-x:auto;line-height:normal;font-family:Menlo,'DejaVu Sans Mono',consolas,'Courier New',monospace\">  Using cached audioread-3.0.1-py3-none-any.whl (23 kB)\n",
       "</pre>\n"
      ],
      "text/plain": [
       "  Using cached audioread-3.0.1-py3-none-any.whl (23 kB)\n"
      ]
     },
     "metadata": {},
     "output_type": "display_data"
    },
    {
     "data": {
      "text/html": [
       "<pre style=\"white-space:pre;overflow-x:auto;line-height:normal;font-family:Menlo,'DejaVu Sans Mono',consolas,'Courier New',monospace\">Requirement already satisfied: scikit-learn&gt;=0.20.0 in c:\\users\\vishal\\anaconda3\\lib\\site-packages (from librosa) (1.0.2)\n",
       "</pre>\n"
      ],
      "text/plain": [
       "Requirement already satisfied: scikit-learn>=0.20.0 in c:\\users\\vishal\\anaconda3\\lib\\site-packages (from librosa) (1.0.2)\n"
      ]
     },
     "metadata": {},
     "output_type": "display_data"
    },
    {
     "data": {
      "text/html": [
       "<pre style=\"white-space:pre;overflow-x:auto;line-height:normal;font-family:Menlo,'DejaVu Sans Mono',consolas,'Courier New',monospace\">Requirement already satisfied: typing-extensions&gt;=4.1.1 in c:\\users\\vishal\\anaconda3\\lib\\site-packages (from librosa) (4.3.0)\n",
       "</pre>\n"
      ],
      "text/plain": [
       "Requirement already satisfied: typing-extensions>=4.1.1 in c:\\users\\vishal\\anaconda3\\lib\\site-packages (from librosa) (4.3.0)\n"
      ]
     },
     "metadata": {},
     "output_type": "display_data"
    },
    {
     "data": {
      "text/html": [
       "<pre style=\"white-space:pre;overflow-x:auto;line-height:normal;font-family:Menlo,'DejaVu Sans Mono',consolas,'Courier New',monospace\">Requirement already satisfied: numpy!=1.22.0,!=1.22.1,!=1.22.2,&gt;=1.20.3 in c:\\users\\vishal\\anaconda3\\lib\\site-packages (from librosa) (1.21.5)\n",
       "</pre>\n"
      ],
      "text/plain": [
       "Requirement already satisfied: numpy!=1.22.0,!=1.22.1,!=1.22.2,>=1.20.3 in c:\\users\\vishal\\anaconda3\\lib\\site-packages (from librosa) (1.21.5)\n"
      ]
     },
     "metadata": {},
     "output_type": "display_data"
    },
    {
     "data": {
      "text/html": [
       "<pre style=\"white-space:pre;overflow-x:auto;line-height:normal;font-family:Menlo,'DejaVu Sans Mono',consolas,'Courier New',monospace\">Collecting pooch&gt;=1.1\n",
       "</pre>\n"
      ],
      "text/plain": [
       "Collecting pooch>=1.1\n"
      ]
     },
     "metadata": {},
     "output_type": "display_data"
    },
    {
     "data": {
      "text/html": [
       "<pre style=\"white-space:pre;overflow-x:auto;line-height:normal;font-family:Menlo,'DejaVu Sans Mono',consolas,'Courier New',monospace\">  Downloading pooch-1.8.2-py3-none-any.whl (64 kB)\n",
       "</pre>\n"
      ],
      "text/plain": [
       "  Downloading pooch-1.8.2-py3-none-any.whl (64 kB)\n"
      ]
     },
     "metadata": {},
     "output_type": "display_data"
    },
    {
     "data": {
      "application/vnd.jupyter.widget-view+json": {
       "model_id": "cd0507d595c144d389eea92b4b9b9304",
       "version_major": 2,
       "version_minor": 0
      },
      "text/plain": [
       "Output()"
      ]
     },
     "metadata": {},
     "output_type": "display_data"
    },
    {
     "data": {
      "text/html": [
       "<pre style=\"white-space:pre;overflow-x:auto;line-height:normal;font-family:Menlo,'DejaVu Sans Mono',consolas,'Courier New',monospace\"></pre>\n"
      ],
      "text/plain": []
     },
     "metadata": {},
     "output_type": "display_data"
    },
    {
     "data": {
      "text/html": [
       "<pre style=\"white-space:pre;overflow-x:auto;line-height:normal;font-family:Menlo,'DejaVu Sans Mono',consolas,'Courier New',monospace\">\n",
       "</pre>\n"
      ],
      "text/plain": [
       "\n"
      ]
     },
     "metadata": {},
     "output_type": "display_data"
    },
    {
     "data": {
      "text/html": [
       "<pre style=\"white-space:pre;overflow-x:auto;line-height:normal;font-family:Menlo,'DejaVu Sans Mono',consolas,'Courier New',monospace\">Requirement already satisfied: msgpack&gt;=1.0 in c:\\users\\vishal\\anaconda3\\lib\\site-packages (from librosa) (1.0.3)\n",
       "</pre>\n"
      ],
      "text/plain": [
       "Requirement already satisfied: msgpack>=1.0 in c:\\users\\vishal\\anaconda3\\lib\\site-packages (from librosa) (1.0.3)\n"
      ]
     },
     "metadata": {},
     "output_type": "display_data"
    },
    {
     "data": {
      "text/html": [
       "<pre style=\"white-space:pre;overflow-x:auto;line-height:normal;font-family:Menlo,'DejaVu Sans Mono',consolas,'Courier New',monospace\">Collecting lazy-loader&gt;=0.1\n",
       "</pre>\n"
      ],
      "text/plain": [
       "Collecting lazy-loader>=0.1\n"
      ]
     },
     "metadata": {},
     "output_type": "display_data"
    },
    {
     "data": {
      "text/html": [
       "<pre style=\"white-space:pre;overflow-x:auto;line-height:normal;font-family:Menlo,'DejaVu Sans Mono',consolas,'Courier New',monospace\">  Downloading lazy_loader-0.4-py3-none-any.whl (12 kB)\n",
       "</pre>\n"
      ],
      "text/plain": [
       "  Downloading lazy_loader-0.4-py3-none-any.whl (12 kB)\n"
      ]
     },
     "metadata": {},
     "output_type": "display_data"
    },
    {
     "data": {
      "text/html": [
       "<pre style=\"white-space:pre;overflow-x:auto;line-height:normal;font-family:Menlo,'DejaVu Sans Mono',consolas,'Courier New',monospace\">Requirement already satisfied: packaging in c:\\users\\vishal\\anaconda3\\lib\\site-packages (from lazy-loader&gt;=0.1-&gt;librosa) (21.3)\n",
       "</pre>\n"
      ],
      "text/plain": [
       "Requirement already satisfied: packaging in c:\\users\\vishal\\anaconda3\\lib\\site-packages (from lazy-loader>=0.1->librosa) (21.3)\n"
      ]
     },
     "metadata": {},
     "output_type": "display_data"
    },
    {
     "data": {
      "text/html": [
       "<pre style=\"white-space:pre;overflow-x:auto;line-height:normal;font-family:Menlo,'DejaVu Sans Mono',consolas,'Courier New',monospace\">Requirement already satisfied: llvmlite&lt;0.39,&gt;=0.38.0rc1 in c:\\users\\vishal\\anaconda3\\lib\\site-packages (from numba&gt;=0.51.0-&gt;librosa) (0.38.0)\n",
       "</pre>\n"
      ],
      "text/plain": [
       "Requirement already satisfied: llvmlite<0.39,>=0.38.0rc1 in c:\\users\\vishal\\anaconda3\\lib\\site-packages (from numba>=0.51.0->librosa) (0.38.0)\n"
      ]
     },
     "metadata": {},
     "output_type": "display_data"
    },
    {
     "data": {
      "text/html": [
       "<pre style=\"white-space:pre;overflow-x:auto;line-height:normal;font-family:Menlo,'DejaVu Sans Mono',consolas,'Courier New',monospace\">Requirement already satisfied: setuptools in c:\\users\\vishal\\anaconda3\\lib\\site-packages (from numba&gt;=0.51.0-&gt;librosa) (63.4.1)\n",
       "</pre>\n"
      ],
      "text/plain": [
       "Requirement already satisfied: setuptools in c:\\users\\vishal\\anaconda3\\lib\\site-packages (from numba>=0.51.0->librosa) (63.4.1)\n"
      ]
     },
     "metadata": {},
     "output_type": "display_data"
    },
    {
     "data": {
      "text/html": [
       "<pre style=\"white-space:pre;overflow-x:auto;line-height:normal;font-family:Menlo,'DejaVu Sans Mono',consolas,'Courier New',monospace\">Requirement already satisfied: platformdirs&gt;=2.5.0 in c:\\users\\vishal\\anaconda3\\lib\\site-packages (from pooch&gt;=1.1-&gt;librosa) (2.5.2)\n",
       "</pre>\n"
      ],
      "text/plain": [
       "Requirement already satisfied: platformdirs>=2.5.0 in c:\\users\\vishal\\anaconda3\\lib\\site-packages (from pooch>=1.1->librosa) (2.5.2)\n"
      ]
     },
     "metadata": {},
     "output_type": "display_data"
    },
    {
     "data": {
      "text/html": [
       "<pre style=\"white-space:pre;overflow-x:auto;line-height:normal;font-family:Menlo,'DejaVu Sans Mono',consolas,'Courier New',monospace\">Requirement already satisfied: requests&gt;=2.19.0 in c:\\users\\vishal\\anaconda3\\lib\\site-packages (from pooch&gt;=1.1-&gt;librosa) (2.28.1)\n",
       "</pre>\n"
      ],
      "text/plain": [
       "Requirement already satisfied: requests>=2.19.0 in c:\\users\\vishal\\anaconda3\\lib\\site-packages (from pooch>=1.1->librosa) (2.28.1)\n"
      ]
     },
     "metadata": {},
     "output_type": "display_data"
    },
    {
     "data": {
      "text/html": [
       "<pre style=\"white-space:pre;overflow-x:auto;line-height:normal;font-family:Menlo,'DejaVu Sans Mono',consolas,'Courier New',monospace\">Requirement already satisfied: threadpoolctl&gt;=2.0.0 in c:\\users\\vishal\\anaconda3\\lib\\site-packages (from scikit-learn&gt;=0.20.0-&gt;librosa) (2.2.0)\n",
       "</pre>\n"
      ],
      "text/plain": [
       "Requirement already satisfied: threadpoolctl>=2.0.0 in c:\\users\\vishal\\anaconda3\\lib\\site-packages (from scikit-learn>=0.20.0->librosa) (2.2.0)\n"
      ]
     },
     "metadata": {},
     "output_type": "display_data"
    },
    {
     "data": {
      "text/html": [
       "<pre style=\"white-space:pre;overflow-x:auto;line-height:normal;font-family:Menlo,'DejaVu Sans Mono',consolas,'Courier New',monospace\">Requirement already satisfied: cffi&gt;=1.0 in c:\\users\\vishal\\anaconda3\\lib\\site-packages (from soundfile&gt;=0.12.1-&gt;librosa) (1.15.1)\n",
       "</pre>\n"
      ],
      "text/plain": [
       "Requirement already satisfied: cffi>=1.0 in c:\\users\\vishal\\anaconda3\\lib\\site-packages (from soundfile>=0.12.1->librosa) (1.15.1)\n"
      ]
     },
     "metadata": {},
     "output_type": "display_data"
    },
    {
     "data": {
      "text/html": [
       "<pre style=\"white-space:pre;overflow-x:auto;line-height:normal;font-family:Menlo,'DejaVu Sans Mono',consolas,'Courier New',monospace\">Requirement already satisfied: pycparser in c:\\users\\vishal\\anaconda3\\lib\\site-packages (from cffi&gt;=1.0-&gt;soundfile&gt;=0.12.1-&gt;librosa) (2.21)\n",
       "</pre>\n"
      ],
      "text/plain": [
       "Requirement already satisfied: pycparser in c:\\users\\vishal\\anaconda3\\lib\\site-packages (from cffi>=1.0->soundfile>=0.12.1->librosa) (2.21)\n"
      ]
     },
     "metadata": {},
     "output_type": "display_data"
    },
    {
     "data": {
      "text/html": [
       "<pre style=\"white-space:pre;overflow-x:auto;line-height:normal;font-family:Menlo,'DejaVu Sans Mono',consolas,'Courier New',monospace\">Requirement already satisfied: pyparsing!=3.0.5,&gt;=2.0.2 in c:\\users\\vishal\\anaconda3\\lib\\site-packages (from packaging-&gt;lazy-loader&gt;=0.1-&gt;librosa) (3.0.9)\n",
       "</pre>\n"
      ],
      "text/plain": [
       "Requirement already satisfied: pyparsing!=3.0.5,>=2.0.2 in c:\\users\\vishal\\anaconda3\\lib\\site-packages (from packaging->lazy-loader>=0.1->librosa) (3.0.9)\n"
      ]
     },
     "metadata": {},
     "output_type": "display_data"
    },
    {
     "data": {
      "text/html": [
       "<pre style=\"white-space:pre;overflow-x:auto;line-height:normal;font-family:Menlo,'DejaVu Sans Mono',consolas,'Courier New',monospace\">Requirement already satisfied: certifi&gt;=2017.4.17 in c:\\users\\vishal\\anaconda3\\lib\\site-packages (from requests&gt;=2.19.0-&gt;pooch&gt;=1.1-&gt;librosa) (2022.9.14)\n",
       "</pre>\n"
      ],
      "text/plain": [
       "Requirement already satisfied: certifi>=2017.4.17 in c:\\users\\vishal\\anaconda3\\lib\\site-packages (from requests>=2.19.0->pooch>=1.1->librosa) (2022.9.14)\n"
      ]
     },
     "metadata": {},
     "output_type": "display_data"
    },
    {
     "data": {
      "text/html": [
       "<pre style=\"white-space:pre;overflow-x:auto;line-height:normal;font-family:Menlo,'DejaVu Sans Mono',consolas,'Courier New',monospace\">Requirement already satisfied: charset-normalizer&lt;3,&gt;=2 in c:\\users\\vishal\\anaconda3\\lib\\site-packages (from requests&gt;=2.19.0-&gt;pooch&gt;=1.1-&gt;librosa) (2.0.4)\n",
       "</pre>\n"
      ],
      "text/plain": [
       "Requirement already satisfied: charset-normalizer<3,>=2 in c:\\users\\vishal\\anaconda3\\lib\\site-packages (from requests>=2.19.0->pooch>=1.1->librosa) (2.0.4)\n"
      ]
     },
     "metadata": {},
     "output_type": "display_data"
    },
    {
     "data": {
      "text/html": [
       "<pre style=\"white-space:pre;overflow-x:auto;line-height:normal;font-family:Menlo,'DejaVu Sans Mono',consolas,'Courier New',monospace\">Requirement already satisfied: urllib3&lt;1.27,&gt;=1.21.1 in c:\\users\\vishal\\anaconda3\\lib\\site-packages (from requests&gt;=2.19.0-&gt;pooch&gt;=1.1-&gt;librosa) (1.26.11)\n",
       "</pre>\n"
      ],
      "text/plain": [
       "Requirement already satisfied: urllib3<1.27,>=1.21.1 in c:\\users\\vishal\\anaconda3\\lib\\site-packages (from requests>=2.19.0->pooch>=1.1->librosa) (1.26.11)\n"
      ]
     },
     "metadata": {},
     "output_type": "display_data"
    },
    {
     "data": {
      "text/html": [
       "<pre style=\"white-space:pre;overflow-x:auto;line-height:normal;font-family:Menlo,'DejaVu Sans Mono',consolas,'Courier New',monospace\">Requirement already satisfied: idna&lt;4,&gt;=2.5 in c:\\users\\vishal\\anaconda3\\lib\\site-packages (from requests&gt;=2.19.0-&gt;pooch&gt;=1.1-&gt;librosa) (3.3)\n",
       "</pre>\n"
      ],
      "text/plain": [
       "Requirement already satisfied: idna<4,>=2.5 in c:\\users\\vishal\\anaconda3\\lib\\site-packages (from requests>=2.19.0->pooch>=1.1->librosa) (3.3)\n"
      ]
     },
     "metadata": {},
     "output_type": "display_data"
    },
    {
     "data": {
      "text/html": [
       "<pre style=\"white-space:pre;overflow-x:auto;line-height:normal;font-family:Menlo,'DejaVu Sans Mono',consolas,'Courier New',monospace\">Installing collected packages: soxr, audioread, soundfile, pooch, lazy-loader, librosa\n",
       "</pre>\n"
      ],
      "text/plain": [
       "Installing collected packages: soxr, audioread, soundfile, pooch, lazy-loader, librosa\n"
      ]
     },
     "metadata": {},
     "output_type": "display_data"
    },
    {
     "data": {
      "text/html": [
       "<pre style=\"white-space:pre;overflow-x:auto;line-height:normal;font-family:Menlo,'DejaVu Sans Mono',consolas,'Courier New',monospace\">Successfully installed audioread-3.0.1 lazy-loader-0.4 librosa-0.10.2.post1 pooch-1.8.2 soundfile-0.12.1 soxr-0.4.0\n",
       "</pre>\n"
      ],
      "text/plain": [
       "Successfully installed audioread-3.0.1 lazy-loader-0.4 librosa-0.10.2.post1 pooch-1.8.2 soundfile-0.12.1 soxr-0.4.0\n"
      ]
     },
     "metadata": {},
     "output_type": "display_data"
    },
    {
     "name": "stderr",
     "output_type": "stream",
     "text": [
      "WARNING: pip is being invoked by an old script wrapper. This will fail in a future version of pip.\n",
      "Please see https://github.com/pypa/pip/issues/5599 for advice on fixing the underlying issue.\n",
      "To avoid this problem you can invoke Python with '-m pip' instead of running pip directly.\n"
     ]
    },
    {
     "data": {
      "text/html": [
       "<pre style=\"white-space:pre;overflow-x:auto;line-height:normal;font-family:Menlo,'DejaVu Sans Mono',consolas,'Courier New',monospace\">Collecting soundfile\n",
       "</pre>\n"
      ],
      "text/plain": [
       "Collecting soundfile\n"
      ]
     },
     "metadata": {},
     "output_type": "display_data"
    },
    {
     "data": {
      "text/html": [
       "<pre style=\"white-space:pre;overflow-x:auto;line-height:normal;font-family:Menlo,'DejaVu Sans Mono',consolas,'Courier New',monospace\">  Using cached soundfile-0.12.1-py2.py3-none-win_amd64.whl (1.0 MB)\n",
       "</pre>\n"
      ],
      "text/plain": [
       "  Using cached soundfile-0.12.1-py2.py3-none-win_amd64.whl (1.0 MB)\n"
      ]
     },
     "metadata": {},
     "output_type": "display_data"
    },
    {
     "data": {
      "text/html": [
       "<pre style=\"white-space:pre;overflow-x:auto;line-height:normal;font-family:Menlo,'DejaVu Sans Mono',consolas,'Courier New',monospace\">Requirement already satisfied: cffi&gt;=1.0 in c:\\users\\vishal\\anaconda3\\lib\\site-packages (from soundfile) (1.15.1)\n",
       "</pre>\n"
      ],
      "text/plain": [
       "Requirement already satisfied: cffi>=1.0 in c:\\users\\vishal\\anaconda3\\lib\\site-packages (from soundfile) (1.15.1)\n"
      ]
     },
     "metadata": {},
     "output_type": "display_data"
    },
    {
     "data": {
      "text/html": [
       "<pre style=\"white-space:pre;overflow-x:auto;line-height:normal;font-family:Menlo,'DejaVu Sans Mono',consolas,'Courier New',monospace\">Requirement already satisfied: pycparser in c:\\users\\vishal\\anaconda3\\lib\\site-packages (from cffi&gt;=1.0-&gt;soundfile) (2.21)\n",
       "</pre>\n"
      ],
      "text/plain": [
       "Requirement already satisfied: pycparser in c:\\users\\vishal\\anaconda3\\lib\\site-packages (from cffi>=1.0->soundfile) (2.21)\n"
      ]
     },
     "metadata": {},
     "output_type": "display_data"
    },
    {
     "data": {
      "text/html": [
       "<pre style=\"white-space:pre;overflow-x:auto;line-height:normal;font-family:Menlo,'DejaVu Sans Mono',consolas,'Courier New',monospace\">Installing collected packages: soundfile\n",
       "</pre>\n"
      ],
      "text/plain": [
       "Installing collected packages: soundfile\n"
      ]
     },
     "metadata": {},
     "output_type": "display_data"
    },
    {
     "data": {
      "text/html": [
       "<pre style=\"white-space:pre;overflow-x:auto;line-height:normal;font-family:Menlo,'DejaVu Sans Mono',consolas,'Courier New',monospace\">Successfully installed soundfile-0.12.1\n",
       "</pre>\n"
      ],
      "text/plain": [
       "Successfully installed soundfile-0.12.1\n"
      ]
     },
     "metadata": {},
     "output_type": "display_data"
    },
    {
     "name": "stderr",
     "output_type": "stream",
     "text": [
      "WARNING: pip is being invoked by an old script wrapper. This will fail in a future version of pip.\n",
      "Please see https://github.com/pypa/pip/issues/5599 for advice on fixing the underlying issue.\n",
      "To avoid this problem you can invoke Python with '-m pip' instead of running pip directly.\n"
     ]
    },
    {
     "data": {
      "text/html": [
       "<pre style=\"white-space:pre;overflow-x:auto;line-height:normal;font-family:Menlo,'DejaVu Sans Mono',consolas,'Courier New',monospace\">Requirement already satisfied: numpy in c:\\users\\vishal\\anaconda3\\lib\\site-packages (1.21.5)\n",
       "</pre>\n"
      ],
      "text/plain": [
       "Requirement already satisfied: numpy in c:\\users\\vishal\\anaconda3\\lib\\site-packages (1.21.5)\n"
      ]
     },
     "metadata": {},
     "output_type": "display_data"
    },
    {
     "name": "stderr",
     "output_type": "stream",
     "text": [
      "WARNING: pip is being invoked by an old script wrapper. This will fail in a future version of pip.\n",
      "Please see https://github.com/pypa/pip/issues/5599 for advice on fixing the underlying issue.\n",
      "To avoid this problem you can invoke Python with '-m pip' instead of running pip directly.\n"
     ]
    },
    {
     "data": {
      "text/html": [
       "<pre style=\"white-space:pre;overflow-x:auto;line-height:normal;font-family:Menlo,'DejaVu Sans Mono',consolas,'Courier New',monospace\">Collecting sklearn\n",
       "</pre>\n"
      ],
      "text/plain": [
       "Collecting sklearn\n"
      ]
     },
     "metadata": {},
     "output_type": "display_data"
    },
    {
     "data": {
      "text/html": [
       "<pre style=\"white-space:pre;overflow-x:auto;line-height:normal;font-family:Menlo,'DejaVu Sans Mono',consolas,'Courier New',monospace\">  Downloading sklearn-0.0.post12.tar.gz (2.6 kB)\n",
       "</pre>\n"
      ],
      "text/plain": [
       "  Downloading sklearn-0.0.post12.tar.gz (2.6 kB)\n"
      ]
     },
     "metadata": {},
     "output_type": "display_data"
    },
    {
     "data": {
      "text/html": [
       "<pre style=\"white-space:pre;overflow-x:auto;line-height:normal;font-family:Menlo,'DejaVu Sans Mono',consolas,'Courier New',monospace\">  Preparing metadata (setup.py): started\n",
       "</pre>\n"
      ],
      "text/plain": [
       "  Preparing metadata (setup.py): started\n"
      ]
     },
     "metadata": {},
     "output_type": "display_data"
    },
    {
     "data": {
      "text/html": [
       "<pre style=\"white-space:pre;overflow-x:auto;line-height:normal;font-family:Menlo,'DejaVu Sans Mono',consolas,'Courier New',monospace\">  Preparing metadata (setup.py): finished with status 'error'\n",
       "</pre>\n"
      ],
      "text/plain": [
       "  Preparing metadata (setup.py): finished with status 'error'\n"
      ]
     },
     "metadata": {},
     "output_type": "display_data"
    },
    {
     "data": {
      "text/html": [
       "<pre style=\"white-space:pre;overflow-x:auto;line-height:normal;font-family:Menlo,'DejaVu Sans Mono',consolas,'Courier New',monospace\">  <span style=\"color: #800000; text-decoration-color: #800000; font-weight: bold\">error</span>: <span style=\"font-weight: bold\">subprocess-exited-with-error</span>\n",
       "  \n",
       "  <span style=\"color: #800000; text-decoration-color: #800000\">×</span> <span style=\"color: #008000; text-decoration-color: #008000\">python setup.py egg_info</span> did not run successfully.\n",
       "  <span style=\"color: #800000; text-decoration-color: #800000\">│</span> exit code: <span style=\"color: #008080; text-decoration-color: #008080; font-weight: bold\">1</span>\n",
       "  <span style=\"color: #800000; text-decoration-color: #800000\">╰─&gt;</span> <span style=\"color: #800000; text-decoration-color: #800000\">[15 lines of output]</span>\n",
       "  <span style=\"color: #800000; text-decoration-color: #800000\">   </span> The 'sklearn' PyPI package is deprecated, use 'scikit-learn'\n",
       "  <span style=\"color: #800000; text-decoration-color: #800000\">   </span> rather than 'sklearn' for pip commands.\n",
       "  <span style=\"color: #800000; text-decoration-color: #800000\">   </span> \n",
       "  <span style=\"color: #800000; text-decoration-color: #800000\">   </span> Here is how to fix this error in the main use cases:\n",
       "  <span style=\"color: #800000; text-decoration-color: #800000\">   </span> - use 'pip install scikit-learn' rather than 'pip install sklearn'\n",
       "  <span style=\"color: #800000; text-decoration-color: #800000\">   </span> - replace 'sklearn' by 'scikit-learn' in your pip requirements files\n",
       "  <span style=\"color: #800000; text-decoration-color: #800000\">   </span>   (requirements.txt, setup.py, setup.cfg, Pipfile, etc ...)\n",
       "  <span style=\"color: #800000; text-decoration-color: #800000\">   </span> - if the 'sklearn' package is used by one of your dependencies,\n",
       "  <span style=\"color: #800000; text-decoration-color: #800000\">   </span>   it would be great if you take some time to track which package uses\n",
       "  <span style=\"color: #800000; text-decoration-color: #800000\">   </span>   'sklearn' instead of 'scikit-learn' and report it to their issue tracker\n",
       "  <span style=\"color: #800000; text-decoration-color: #800000\">   </span> - as a last resort, set the environment variable\n",
       "  <span style=\"color: #800000; text-decoration-color: #800000\">   </span>   SKLEARN_ALLOW_DEPRECATED_SKLEARN_PACKAGE_INSTALL=True to avoid this error\n",
       "  <span style=\"color: #800000; text-decoration-color: #800000\">   </span> \n",
       "  <span style=\"color: #800000; text-decoration-color: #800000\">   </span> More information is available at\n",
       "  <span style=\"color: #800000; text-decoration-color: #800000\">   </span> https://github.com/scikit-learn/sklearn-pypi-package\n",
       "  <span style=\"color: #800000; text-decoration-color: #800000\">   </span> <span style=\"color: #800000; text-decoration-color: #800000\">[end of output]</span>\n",
       "  \n",
       "  <span style=\"color: #800080; text-decoration-color: #800080; font-weight: bold\">note</span>: This error originates from a subprocess, and is likely not a problem with pip.\n",
       "</pre>\n"
      ],
      "text/plain": [
       "  \u001b[1;31merror\u001b[0m: \u001b[1msubprocess-exited-with-error\u001b[0m\n",
       "  \n",
       "  \u001b[31m×\u001b[0m \u001b[32mpython setup.py egg_info\u001b[0m did not run successfully.\n",
       "  \u001b[31m│\u001b[0m exit code: \u001b[1;36m1\u001b[0m\n",
       "  \u001b[31m╰─>\u001b[0m \u001b[31m[15 lines of output]\u001b[0m\n",
       "  \u001b[31m   \u001b[0m The 'sklearn' PyPI package is deprecated, use 'scikit-learn'\n",
       "  \u001b[31m   \u001b[0m rather than 'sklearn' for pip commands.\n",
       "  \u001b[31m   \u001b[0m \n",
       "  \u001b[31m   \u001b[0m Here is how to fix this error in the main use cases:\n",
       "  \u001b[31m   \u001b[0m - use 'pip install scikit-learn' rather than 'pip install sklearn'\n",
       "  \u001b[31m   \u001b[0m - replace 'sklearn' by 'scikit-learn' in your pip requirements files\n",
       "  \u001b[31m   \u001b[0m   (requirements.txt, setup.py, setup.cfg, Pipfile, etc ...)\n",
       "  \u001b[31m   \u001b[0m - if the 'sklearn' package is used by one of your dependencies,\n",
       "  \u001b[31m   \u001b[0m   it would be great if you take some time to track which package uses\n",
       "  \u001b[31m   \u001b[0m   'sklearn' instead of 'scikit-learn' and report it to their issue tracker\n",
       "  \u001b[31m   \u001b[0m - as a last resort, set the environment variable\n",
       "  \u001b[31m   \u001b[0m   SKLEARN_ALLOW_DEPRECATED_SKLEARN_PACKAGE_INSTALL=True to avoid this error\n",
       "  \u001b[31m   \u001b[0m \n",
       "  \u001b[31m   \u001b[0m More information is available at\n",
       "  \u001b[31m   \u001b[0m https://github.com/scikit-learn/sklearn-pypi-package\n",
       "  \u001b[31m   \u001b[0m \u001b[31m[end of output]\u001b[0m\n",
       "  \n",
       "  \u001b[1;35mnote\u001b[0m: This error originates from a subprocess, and is likely not a problem with pip.\n"
      ]
     },
     "metadata": {},
     "output_type": "display_data"
    },
    {
     "data": {
      "text/html": [
       "<pre style=\"white-space:pre;overflow-x:auto;line-height:normal;font-family:Menlo,'DejaVu Sans Mono',consolas,'Courier New',monospace\"><span style=\"color: #800000; text-decoration-color: #800000; font-weight: bold\">error</span>: <span style=\"font-weight: bold\">metadata-generation-failed</span>\n",
       "\n",
       "<span style=\"color: #800000; text-decoration-color: #800000\">×</span> Encountered error while generating package metadata.\n",
       "<span style=\"color: #800000; text-decoration-color: #800000\">╰─&gt;</span> See above for output.\n",
       "\n",
       "<span style=\"color: #800080; text-decoration-color: #800080; font-weight: bold\">note</span>: This is an issue with the package mentioned above, not pip.\n",
       "<span style=\"color: #008080; text-decoration-color: #008080; font-weight: bold\">hint</span>: See above for details.\n",
       "</pre>\n"
      ],
      "text/plain": [
       "\u001b[1;31merror\u001b[0m: \u001b[1mmetadata-generation-failed\u001b[0m\n",
       "\n",
       "\u001b[31m×\u001b[0m Encountered error while generating package metadata.\n",
       "\u001b[31m╰─>\u001b[0m See above for output.\n",
       "\n",
       "\u001b[1;35mnote\u001b[0m: This is an issue with the package mentioned above, not pip.\n",
       "\u001b[1;36mhint\u001b[0m: See above for details.\n"
      ]
     },
     "metadata": {},
     "output_type": "display_data"
    },
    {
     "name": "stderr",
     "output_type": "stream",
     "text": [
      "WARNING: pip is being invoked by an old script wrapper. This will fail in a future version of pip.\n",
      "Please see https://github.com/pypa/pip/issues/5599 for advice on fixing the underlying issue.\n",
      "To avoid this problem you can invoke Python with '-m pip' instead of running pip directly.\n"
     ]
    },
    {
     "data": {
      "text/html": [
       "<pre style=\"white-space:pre;overflow-x:auto;line-height:normal;font-family:Menlo,'DejaVu Sans Mono',consolas,'Courier New',monospace\">Collecting pyaudio\n",
       "</pre>\n"
      ],
      "text/plain": [
       "Collecting pyaudio\n"
      ]
     },
     "metadata": {},
     "output_type": "display_data"
    },
    {
     "data": {
      "text/html": [
       "<pre style=\"white-space:pre;overflow-x:auto;line-height:normal;font-family:Menlo,'DejaVu Sans Mono',consolas,'Courier New',monospace\">  Downloading PyAudio-0.2.14-cp39-cp39-win_amd64.whl (164 kB)\n",
       "</pre>\n"
      ],
      "text/plain": [
       "  Downloading PyAudio-0.2.14-cp39-cp39-win_amd64.whl (164 kB)\n"
      ]
     },
     "metadata": {},
     "output_type": "display_data"
    },
    {
     "data": {
      "application/vnd.jupyter.widget-view+json": {
       "model_id": "8c9ac53fc5ce452b9255dc7ab038c4eb",
       "version_major": 2,
       "version_minor": 0
      },
      "text/plain": [
       "Output()"
      ]
     },
     "metadata": {},
     "output_type": "display_data"
    },
    {
     "data": {
      "text/html": [
       "<pre style=\"white-space:pre;overflow-x:auto;line-height:normal;font-family:Menlo,'DejaVu Sans Mono',consolas,'Courier New',monospace\"></pre>\n"
      ],
      "text/plain": []
     },
     "metadata": {},
     "output_type": "display_data"
    },
    {
     "data": {
      "text/html": [
       "<pre style=\"white-space:pre;overflow-x:auto;line-height:normal;font-family:Menlo,'DejaVu Sans Mono',consolas,'Courier New',monospace\">\n",
       "</pre>\n"
      ],
      "text/plain": [
       "\n"
      ]
     },
     "metadata": {},
     "output_type": "display_data"
    },
    {
     "data": {
      "text/html": [
       "<pre style=\"white-space:pre;overflow-x:auto;line-height:normal;font-family:Menlo,'DejaVu Sans Mono',consolas,'Courier New',monospace\">Installing collected packages: pyaudio\n",
       "</pre>\n"
      ],
      "text/plain": [
       "Installing collected packages: pyaudio\n"
      ]
     },
     "metadata": {},
     "output_type": "display_data"
    },
    {
     "data": {
      "text/html": [
       "<pre style=\"white-space:pre;overflow-x:auto;line-height:normal;font-family:Menlo,'DejaVu Sans Mono',consolas,'Courier New',monospace\">Successfully installed pyaudio-0.2.14\n",
       "</pre>\n"
      ],
      "text/plain": [
       "Successfully installed pyaudio-0.2.14\n"
      ]
     },
     "metadata": {},
     "output_type": "display_data"
    },
    {
     "name": "stderr",
     "output_type": "stream",
     "text": [
      "WARNING: pip is being invoked by an old script wrapper. This will fail in a future version of pip.\n",
      "Please see https://github.com/pypa/pip/issues/5599 for advice on fixing the underlying issue.\n",
      "To avoid this problem you can invoke Python with '-m pip' instead of running pip directly.\n"
     ]
    },
    {
     "data": {
      "text/html": [
       "<pre style=\"white-space:pre;overflow-x:auto;line-height:normal;font-family:Menlo,'DejaVu Sans Mono',consolas,'Courier New',monospace\">Collecting wave\n",
       "</pre>\n"
      ],
      "text/plain": [
       "Collecting wave\n"
      ]
     },
     "metadata": {},
     "output_type": "display_data"
    },
    {
     "data": {
      "text/html": [
       "<pre style=\"white-space:pre;overflow-x:auto;line-height:normal;font-family:Menlo,'DejaVu Sans Mono',consolas,'Courier New',monospace\">  Using cached Wave-0.0.2-py3-none-any.whl\n",
       "</pre>\n"
      ],
      "text/plain": [
       "  Using cached Wave-0.0.2-py3-none-any.whl\n"
      ]
     },
     "metadata": {},
     "output_type": "display_data"
    },
    {
     "data": {
      "text/html": [
       "<pre style=\"white-space:pre;overflow-x:auto;line-height:normal;font-family:Menlo,'DejaVu Sans Mono',consolas,'Courier New',monospace\">Installing collected packages: wave\n",
       "</pre>\n"
      ],
      "text/plain": [
       "Installing collected packages: wave\n"
      ]
     },
     "metadata": {},
     "output_type": "display_data"
    },
    {
     "data": {
      "text/html": [
       "<pre style=\"white-space:pre;overflow-x:auto;line-height:normal;font-family:Menlo,'DejaVu Sans Mono',consolas,'Courier New',monospace\">Successfully installed wave-0.0.2\n",
       "</pre>\n"
      ],
      "text/plain": [
       "Successfully installed wave-0.0.2\n"
      ]
     },
     "metadata": {},
     "output_type": "display_data"
    },
    {
     "data": {
      "text/plain": [
       "0"
      ]
     },
     "execution_count": 9,
     "metadata": {},
     "output_type": "execute_result"
    }
   ],
   "source": [
    "#import pip\n",
    "#pip.main(['install', 'librosa'])\n",
    "#pip.main(['install', 'soundfile'])\n",
    "#pip.main(['install', 'numpy'])\n",
    "#pip.main(['install', 'sklearn'])\n",
    "#pip.main(['install', 'pyaudio'])\n",
    "#pip.main(['install', 'wave'])\n",
    "#Uncomment these to install all the dependencies"
   ]
  },
  {
   "cell_type": "code",
   "execution_count": 10,
   "metadata": {
    "id": "dOBXK6Gg1d8Q"
   },
   "outputs": [],
   "source": [
    "#This cell imports all the essential libraries\n",
    "\n",
    "import librosa\n",
    "import soundfile\n",
    "import os, glob, pickle\n",
    "import numpy as np\n",
    "import wave\n",
    "import pyaudio\n",
    "from sklearn.model_selection import train_test_split\n",
    "from sklearn.neural_network import MLPClassifier\n",
    "from sklearn.metrics import accuracy_score"
   ]
  },
  {
   "cell_type": "code",
   "execution_count": 11,
   "metadata": {
    "id": "3cvPvirs3Go1"
   },
   "outputs": [],
   "source": [
    "#Extract features (mfcc, chroma, mel) from a sound file\n",
    "def extract_feature(file_name, mfcc, chroma, mel):\n",
    "  with soundfile.SoundFile(file_name) as sound_file:\n",
    "    X = sound_file.read(dtype=\"float32\")\n",
    "    sample_rate = sound_file.samplerate\n",
    "    if chroma:\n",
    "      stft = np.abs(librosa.stft(X))\n",
    "    result = np.array([])\n",
    "    if mfcc:\n",
    "      mfccs = np.mean(librosa.feature.mfcc(y = X, sr = sample_rate, n_mfcc = 40).T, axis = 0)\n",
    "      result = np.hstack((result, mfccs))\n",
    "    if chroma:\n",
    "      chroma = np.mean(librosa.feature.chroma_stft(S=stft, sr=sample_rate).T, axis = 0)\n",
    "      result = np.hstack((result, chroma))\n",
    "    if mel:\n",
    "      mel = np.mean(librosa.feature.melspectrogram(y = X, sr=sample_rate).T, axis = 0)\n",
    "      result = np.hstack((result, mel))\n",
    "  return result\n"
   ]
  },
  {
   "cell_type": "code",
   "execution_count": 12,
   "metadata": {
    "id": "rYSIMI3k_eQc"
   },
   "outputs": [],
   "source": [
    "#Emotions in the RAVDESS dataset\n",
    "emotions = {\n",
    "    '01' : 'neutral',\n",
    "    '02' : 'calm',\n",
    "    '03' : 'happy',\n",
    "    '04' : 'sad',\n",
    "    '05' : 'angry',\n",
    "    '06' : 'fearful',\n",
    "    '07' : 'disgust',\n",
    "    '08' : 'surprised'\n",
    "}\n",
    "\n",
    "#Emotions in the SAVEE dataset\n",
    "emotions_2 = {\n",
    "    '_a' : 'anger',\n",
    "    '_d' : 'disgust',\n",
    "    '_f' : 'fearful',\n",
    "    '_h' : 'happy',\n",
    "    'sa' : 'sad',\n",
    "    'su' : 'surprised',\n",
    "    '_n' : 'neutral'\n",
    "}\n",
    "\n",
    "#Emotions to observe\n",
    "observed_emotions = ['sad', 'happy', 'anger', 'disgust']"
   ]
  },
  {
   "cell_type": "code",
   "execution_count": 13,
   "metadata": {
    "id": "Axi7K0ijAoFU"
   },
   "outputs": [],
   "source": [
    "#Load the data and extract features for each sound file\n",
    "def load_data(test_size=0.2):\n",
    "  x, y = [], []\n",
    "  for file in glob.glob(\"RAVDESS_Data\\\\Actor_*\\\\*.wav\"):\n",
    "    file_name = os.path.basename(file)\n",
    "    emotion = emotions[file_name.split(\"-\")[2]]\n",
    "    if emotion not in observed_emotions:\n",
    "      continue\n",
    "    feature = extract_feature(file, mfcc = True, chroma = True, mel = True)\n",
    "    x.append(feature)\n",
    "    y.append(emotion)\n",
    "\n",
    "  for file in glob.glob(\"SAVEE_Data\\\\ALL\\\\*.wav\"):\n",
    "    file_name = os.path.basename(file)\n",
    "    emotion = emotions_2[file_name[-8:-6]]\n",
    "    if emotion not in observed_emotions:\n",
    "      continue\n",
    "    feature = extract_feature(file, mfcc = True, chroma = True, mel = True)\n",
    "    x.append(feature)\n",
    "    y.append(emotion)\n",
    "\n",
    "  return train_test_split(np.array(x), y, test_size = test_size, random_state = 9)"
   ]
  },
  {
   "cell_type": "code",
   "execution_count": 14,
   "metadata": {
    "id": "YAoAlgDGCbH_"
   },
   "outputs": [],
   "source": [
    "#Split the dataset\n",
    "x_train, x_test, y_train, y_test = load_data(test_size = 0.25)"
   ]
  },
  {
   "cell_type": "code",
   "execution_count": 15,
   "metadata": {
    "id": "toy6IUJpDm6G"
   },
   "outputs": [
    {
     "name": "stdout",
     "output_type": "stream",
     "text": [
      "(612, 204)\n"
     ]
    }
   ],
   "source": [
    "#Get the shape of the training and testing datasets\n",
    "print((x_train.shape[0], x_test.shape[0]))"
   ]
  },
  {
   "cell_type": "code",
   "execution_count": 16,
   "metadata": {},
   "outputs": [
    {
     "name": "stdout",
     "output_type": "stream",
     "text": [
      "Features extracted: 180\n"
     ]
    }
   ],
   "source": [
    "#Get the number of features extracted\n",
    "print(f'Features extracted: {x_train.shape[1]}')"
   ]
  },
  {
   "cell_type": "code",
   "execution_count": 17,
   "metadata": {},
   "outputs": [],
   "source": [
    "#Initialize the Multi Layer Perceptron Classifier\n",
    "model=MLPClassifier(alpha=0.01, batch_size=256, epsilon=1e-08, hidden_layer_sizes=(300,), learning_rate='adaptive', max_iter=500)"
   ]
  },
  {
   "cell_type": "code",
   "execution_count": 18,
   "metadata": {},
   "outputs": [
    {
     "data": {
      "text/plain": [
       "MLPClassifier(alpha=0.01, batch_size=256, hidden_layer_sizes=(300,),\n",
       "              learning_rate='adaptive', max_iter=500)"
      ]
     },
     "execution_count": 18,
     "metadata": {},
     "output_type": "execute_result"
    }
   ],
   "source": [
    "#Train the model\n",
    "model.fit(x_train,y_train)"
   ]
  },
  {
   "cell_type": "code",
   "execution_count": 19,
   "metadata": {},
   "outputs": [],
   "source": [
    "#Predict for the test set\n",
    "y_pred=model.predict(x_test)"
   ]
  },
  {
   "cell_type": "code",
   "execution_count": 20,
   "metadata": {},
   "outputs": [
    {
     "name": "stdout",
     "output_type": "stream",
     "text": [
      "Accuracy: 67.65%\n"
     ]
    }
   ],
   "source": [
    "#Calculate the accuracy of our model\n",
    "accuracy=accuracy_score(y_true=y_test, y_pred=y_pred)\n",
    "\n",
    "#Print the accuracy\n",
    "print(\"Accuracy: {:.2f}%\".format(accuracy*100))"
   ]
  },
  {
   "cell_type": "code",
   "execution_count": 32,
   "metadata": {},
   "outputs": [
    {
     "name": "stdout",
     "output_type": "stream",
     "text": [
      "start recording...\n",
      "recording stopped...\n"
     ]
    }
   ],
   "source": [
    "#To get new_input using the microphone\n",
    "CHUNK = 1024\n",
    "FORMAT = pyaudio.paInt16\n",
    "CHANNELS = 1\n",
    "RATE = 44100\n",
    "\n",
    "p = pyaudio.PyAudio()\n",
    "\n",
    "#Start the recording\n",
    "stream = p.open(format = FORMAT,\n",
    "               channels = CHANNELS,\n",
    "               rate = RATE,\n",
    "               input = True,\n",
    "               frames_per_buffer = CHUNK)\n",
    "\n",
    "print(\"start recording...\")\n",
    "\n",
    "#Stop the recording\n",
    "frames = []\n",
    "seconds = 3\n",
    "for i in range(0, int(RATE / CHUNK * seconds)):\n",
    "    data = stream.read(CHUNK)\n",
    "    frames.append(data)\n",
    "    \n",
    "print(\"recording stopped...\")\n",
    "stream.stop_stream()\n",
    "stream.close()\n",
    "p.terminate()\n",
    "\n",
    "#Save the recording as output.wav\n",
    "wf = wave.open(\"output.wav\", 'wb')\n",
    "wf.setnchannels(CHANNELS)\n",
    "wf.setsampwidth(p.get_sample_size(FORMAT))\n",
    "wf.setframerate(RATE)\n",
    "wf.writeframes(b''.join(frames))\n",
    "wf.close()"
   ]
  },
  {
   "cell_type": "code",
   "execution_count": 33,
   "metadata": {},
   "outputs": [
    {
     "name": "stdout",
     "output_type": "stream",
     "text": [
      "['happy']\n"
     ]
    }
   ],
   "source": [
    "#define new input\n",
    "\n",
    "#Uncomment the following line to use an audio file as an input/Comment the following line to use recording as input\n",
    "#new_input = extract_feature(\"SAVEE_Data\\ALL\\JK_h01.wav\", mfcc = True, chroma = True, mel = True)\n",
    "\n",
    "#Comment the following line to use an audio file as an input/Uncomment the following line to use recording as input\n",
    "new_input = extract_feature(\"output.wav\", mfcc = True, chroma = True, mel = True)\n",
    "#get prediction for new input\n",
    "new_output = model.predict(new_input.reshape(1, -1))\n",
    "#summarize input and output\n",
    "print(new_output)"
   ]
  }
 ],
 "metadata": {
  "colab": {
   "collapsed_sections": [],
   "provenance": []
  },
  "kernelspec": {
   "display_name": "Python 3 (ipykernel)",
   "language": "python",
   "name": "python3"
  },
  "language_info": {
   "codemirror_mode": {
    "name": "ipython",
    "version": 3
   },
   "file_extension": ".py",
   "mimetype": "text/x-python",
   "name": "python",
   "nbconvert_exporter": "python",
   "pygments_lexer": "ipython3",
   "version": "3.9.13"
  }
 },
 "nbformat": 4,
 "nbformat_minor": 1
}
